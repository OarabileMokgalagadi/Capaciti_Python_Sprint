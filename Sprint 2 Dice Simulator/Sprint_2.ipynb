{
 "cells": [
  {
   "cell_type": "markdown",
   "metadata": {},
   "source": [
    "# Dice Rolling Simulator"
   ]
  },
  {
   "cell_type": "markdown",
   "metadata": {},
   "source": [
    "This is a python pgrogram that simulates rolling dice"
   ]
  },
  {
   "cell_type": "code",
   "execution_count": null,
   "metadata": {},
   "outputs": [],
   "source": [
    "      \"\"\"Import the random module to generate random numbers\"\"\"\n",
    "\n",
    "import random\n",
    "\n",
    "\n",
    "def dice(): \n",
    "            \n",
    "        \"\"\"Introduction to the game\"\"\"\n",
    "    print('Welcome to our Dice Rolling Simulator')\n",
    "          \n",
    "play_game = input('Are you ready to roll the dice? Enter Yes or No..:').lower()\n",
    "\n",
    "     \"\"\"the while ensures that the dice rolls as long as you want to play again\"\"\"\n",
    "while play_game.lower()[0] == 'y':\n",
    "    print(\"Rolling dice..\")\n",
    "    \n",
    "    \"\"\"Set the min and max random number that the dice can produce\"\"\"\n",
    "    \n",
    "    roll_dice = random.randint(1,6)\n",
    "    \n",
    "    \"\"\" Function randomly grabs a number within the specified range and prints it\"\"\"\n",
    "    \n",
    "    print(f'You rolled a {roll_dice} \\n\\n')\n",
    "    \n",
    "    \"\"\"The program should then ask the player if they would like to roll again\"\"\"\n",
    "    \n",
    "    play_game = input(\"Do you want to roll again ? \\n\")\n",
    "    \n",
    "    \"\"\"If the user does not want to play,a thank you message  will be\"\"\"\n",
    "if play_game.lower()[0] == 'n':\n",
    "        print('Thank you. Enjoy your day!')\n",
    "else :\n",
    "       print(\"Wrong selection .Please try again\")"
   ]
  },
  {
   "cell_type": "code",
   "execution_count": null,
   "metadata": {},
   "outputs": [],
   "source": []
  }
 ],
 "metadata": {
  "kernelspec": {
   "display_name": "Python 3",
   "language": "python",
   "name": "python3"
  },
  "language_info": {
   "codemirror_mode": {
    "name": "ipython",
    "version": 3
   },
   "file_extension": ".py",
   "mimetype": "text/x-python",
   "name": "python",
   "nbconvert_exporter": "python",
   "pygments_lexer": "ipython3",
   "version": "3.7.1"
  }
 },
 "nbformat": 4,
 "nbformat_minor": 2
}
