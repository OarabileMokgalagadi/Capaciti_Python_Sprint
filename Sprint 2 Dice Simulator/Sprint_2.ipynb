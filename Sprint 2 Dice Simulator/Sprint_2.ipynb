{
 "cells": [
  {
   "cell_type": "markdown",
   "metadata": {},
   "source": [
    "# Dice Rolling Simulator"
   ]
  },
  {
   "cell_type": "markdown",
   "metadata": {},
   "source": [
    "This is a python program that simulates rolling dice"
   ]
  },
  {
   "cell_type": "code",
   "execution_count": null,
   "metadata": {},
   "outputs": [
    {
     "name": "stdout",
     "output_type": "stream",
     "text": [
      "Welcome to our Dice Rolling Simulator\n",
      "Are you ready to roll the dice? Enter Yes or No..:y\n",
      "Rolling dice..\n",
      "You rolled a 5 \n",
      "\n",
      "\n"
     ]
    }
   ],
   "source": [
    "#Import the random module to generate random numbers\n",
    "\n",
    "import random\n",
    "\n",
    "\n",
    "#Introduction to the game\n",
    "print('Welcome to our Dice Rolling Simulator')\n",
    "\n",
    "#User is asked if they want to roll the dice\n",
    "\n",
    "play_game = input('Are you ready to roll the dice? Enter Yes or No..:').lower()\n",
    "\n",
    "       \n",
    "while play_game.lower()[0] == 'y':\n",
    "    print(\"Rolling dice..\")\n",
    "    \n",
    "#Set the min and max random number that the dice can produce\n",
    "    \n",
    "    roll_dice = random.randint(1,6)\n",
    "    \n",
    "#randomly grabs a number within the specified range and prints it\n",
    "    \n",
    "    print(f'You rolled a {roll_dice} \\n\\n')\n",
    "    \n",
    "#The program should then ask the player if they would like to roll again\n",
    "    \n",
    "    play_game = input(\"Do you want to roll again ? \\n\")\n",
    "    \n",
    "#If the user does not want to play,a thank you message  will be dispalyed\n",
    "if play_game.lower()[0] == 'n':\n",
    "        print('Thank you. Enjoy your day!')\n",
    "#If the user input an answer that the program does not recognize,the following message will be dispalyed\n",
    "else :\n",
    "       print(\"Wrong selection \")"
   ]
  },
  {
   "cell_type": "code",
   "execution_count": null,
   "metadata": {},
   "outputs": [],
   "source": []
  }
 ],
 "metadata": {
  "kernelspec": {
   "display_name": "Python 3",
   "language": "python",
   "name": "python3"
  },
  "language_info": {
   "codemirror_mode": {
    "name": "ipython",
    "version": 3
   },
   "file_extension": ".py",
   "mimetype": "text/x-python",
   "name": "python",
   "nbconvert_exporter": "python",
   "pygments_lexer": "ipython3",
   "version": "3.7.1"
  }
 },
 "nbformat": 4,
 "nbformat_minor": 2
}
