{
 "cells": [
  {
   "cell_type": "code",
   "execution_count": 1,
   "metadata": {},
   "outputs": [
    {
     "name": "stdout",
     "output_type": "stream",
     "text": [
      "AACAAACAATTTCCGTATAATCTTAATACATGGTGTAATCGTACCGGGACGGTTTCGCGAGCATAGTGTACTTATATACAGTACTACGGACATGATAGTGGGTGTAAGAATACCCCCGGTGTACCTTGACACGGACTTGCAGGCATGCCTACCGTCG\n",
      ">>>Normal>>> AACAAACAATTTCCGTATAATCTTAATACATGGTGTAATCGTACCGGGACGGTTTCGCGAGCATAGTGTACTTATATACAGTACTACGGACATGATAGTGGGTGTAAGAATACCCCCGGTGTACCTTGACACGGACTTGCAGGCATGCCTACCGTCG\n",
      ">>>>Mutated>> AACAAACAATTTCCGTATAATCTTAATACATGGTGTAATCGTACCGGGACGGTTTCGCGAGCATAGTGTACTTATATACAGTACTACGGACATGATAGTGGGTGTAAGAATACCCCCGGTGTACCTTGACACGGACTTGCAGGCATGCCTACCGTCG\n",
      "AACAAACAATTTCCGTATAATCTTAATACATGGTGTAATCGTACCGGGACGGTTTCGCGAGCATAGTGTACTTATATACAGTACTACGGACATGATAGTGGGTGTAAGAATACCCCCGGTGTACCTTGACACGGACTTGCAGGCATGCCTACCGTCG\n",
      ">>>Normal>>> AACAAACAATTTCCGTATAATCTTAATACATGGTGTAATCGTACCGGGACGGTTTCGCGAGCATAGTGTACTTATATACAGTACTACGGACATGATAGTGGGTGTAAGAATACCCCCGGTGTACCTTGACACGGACTTGCAGGCATGCCTACCGTCG\n",
      ">>>>Mutated>> AACAAACAATTTCCGTATAATCTTAATACATGGTGTAATCGTACCGGGACGGTTTCGCGAGCATAGTGTACTTATATACAGTACTACGGACATGATAGTGGGTGTAAGAATACCCCCGGTGTACCTTGACACGGACTTGCAGGCATGCCTACCGTCG\n",
      "\n",
      "False\n"
     ]
    }
   ],
   "source": [
    "inputfile =\"DNAFile.txt\"\n",
    "f = open(inputfile, \"r\") \n",
    "seq = f.read() \n",
    "\n",
    "seq = seq.replace(\"\\n\", \"\") \n",
    "seq = seq.replace(\"\\r\", \"\") \n",
    "\n",
    "def translate(seq): \n",
    "    \n",
    "    table = { \n",
    "        'ATA':'I', 'ATC':'I', 'ATT':'I', 'ATG':'M', \n",
    "        'ACA':'T', 'ACC':'T', 'ACG':'T', 'ACT':'T', \n",
    "        'AAC':'N', 'AAT':'N', 'AAA':'K', 'AAG':'K', \n",
    "        'AGC':'S', 'AGT':'S', 'AGA':'R', 'AGG':'R',                 \n",
    "        'CTA':'L', 'CTC':'L', 'CTG':'L', 'CTT':'L', \n",
    "        'CCA':'P', 'CCC':'P', 'CCG':'P', 'CCT':'P', \n",
    "        'CAC':'H', 'CAT':'H', 'CAA':'Q', 'CAG':'Q', \n",
    "        'CGA':'R', 'CGC':'R', 'CGG':'R', 'CGT':'R', \n",
    "        'GTA':'V', 'GTC':'V', 'GTG':'V', 'GTT':'V', \n",
    "        'GCA':'A', 'GCC':'A', 'GCG':'A', 'GCT':'A', \n",
    "        'GAC':'D', 'GAT':'D', 'GAA':'E', 'GAG':'E', \n",
    "        'GGA':'G', 'GGC':'G', 'GGG':'G', 'GGT':'G', \n",
    "        'TCA':'S', 'TCC':'S', 'TCG':'S', 'TCT':'S', \n",
    "        'TTC':'F', 'TTT':'F', 'TTA':'L', 'TTG':'L', \n",
    "        'TAC':'Y', 'TAT':'Y', 'TAA':'_', 'TAG':'_', \n",
    "        'TGC':'C', 'TGT':'C', 'TGA':'_', 'TGG':'W', \n",
    "    } \n",
    "    protein =\"\" \n",
    "    if len(seq)%3 == 0: \n",
    "        for i in range(0, len(seq), 3): \n",
    "            codon = seq[i:i + 3] \n",
    "            protein+= table[codon]\n",
    "    print(protein)\n",
    "    return protein\n",
    "\n",
    "def mutate(inputfile): \n",
    "    with open(inputfile, \"r\") as f: \n",
    "        seq = f.read() \n",
    "    seq = seq.replace(\"\\n\", \"\") \n",
    "    seq = seq.replace(\"\\r\", \"\")\n",
    "\n",
    "    normal = seq.replace(\"a\",\"A\")\n",
    "    f = open('normalDNA.txt','w')\n",
    "    f.write(normal)\n",
    "    f.close()\n",
    "    \n",
    "    print(seq)\n",
    "    print('>>>Normal>>>',normal)\n",
    "\n",
    "    mut = seq.replace(\"a\",\"T\")\n",
    "    f = open('mutatedDNA.txt','w')\n",
    "    f.write(mut)\n",
    "    f.close()\n",
    "    print('>>>>Mutated>>', mut)\n",
    "    return seq \n",
    "\n",
    "prt = mutate('normalDNA.txt') \n",
    "dna = mutate('mutatedDNA.txt')\n",
    "p = translate(dna[20:935]) \n",
    "print(p == prt)"
   ]
  },
  {
   "cell_type": "code",
   "execution_count": null,
   "metadata": {},
   "outputs": [],
   "source": []
  }
 ],
 "metadata": {
  "kernelspec": {
   "display_name": "Python 3",
   "language": "python",
   "name": "python3"
  },
  "language_info": {
   "codemirror_mode": {
    "name": "ipython",
    "version": 3
   },
   "file_extension": ".py",
   "mimetype": "text/x-python",
   "name": "python",
   "nbconvert_exporter": "python",
   "pygments_lexer": "ipython3",
   "version": "3.7.1"
  }
 },
 "nbformat": 4,
 "nbformat_minor": 2
}
