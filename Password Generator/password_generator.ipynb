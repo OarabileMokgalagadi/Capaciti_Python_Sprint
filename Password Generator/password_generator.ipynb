{
 "cells": [
  {
   "cell_type": "code",
   "execution_count": 22,
   "metadata": {},
   "outputs": [],
   "source": [
    "import random\n",
    "import string\n",
    "\n",
    "def password_generator(pass_len=12):\n",
    "    \n",
    "    # combination of characters (lower & upper) + digits + special characters\n",
    "    pass_chars = string.ascii_letters + string.digits + string.punctuation\n",
    "    \n",
    "    return ''.join(random.choice(pass_chars) for i in range(pass_len))"
   ]
  },
  {
   "cell_type": "code",
   "execution_count": 25,
   "metadata": {},
   "outputs": [
    {
     "name": "stdout",
     "output_type": "stream",
     "text": [
      "Random Password:  _:%'z5{&SspP\n"
     ]
    }
   ],
   "source": [
    "print('Random Password: ', password_generator())"
   ]
  },
  {
   "cell_type": "code",
   "execution_count": null,
   "metadata": {},
   "outputs": [],
   "source": []
  }
 ],
 "metadata": {
  "kernelspec": {
   "display_name": "Python 3",
   "language": "python",
   "name": "python3"
  },
  "language_info": {
   "codemirror_mode": {
    "name": "ipython",
    "version": 3
   },
   "file_extension": ".py",
   "mimetype": "text/x-python",
   "name": "python",
   "nbconvert_exporter": "python",
   "pygments_lexer": "ipython3",
   "version": "3.7.1"
  }
 },
 "nbformat": 4,
 "nbformat_minor": 2
}
